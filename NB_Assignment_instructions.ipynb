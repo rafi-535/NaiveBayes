{
 "cells": [
  {
   "cell_type": "markdown",
   "metadata": {
    "id": "Dnubs-Nnb3cw"
   },
   "source": [
    "# Assignment 6: Apply NB"
   ]
  },
  {
   "cell_type": "markdown",
   "metadata": {
    "id": "RW0zYHb5m_wI"
   },
   "source": [
    "<ol>\n",
    "    <li>Minimum data points need to be considered for people having 4GB RAM is <strong>50k</strong> and for 8GB RAM is <strong>100k</strong></li>\n",
    "    <li>When you are using ramdomsearchcv or gridsearchcv you need not split the data into X_train,X_cv,X_test. As the above methods use kfold. The model will learn better if train data is more so splitting to X_train,X_test will suffice.</li>\n",
    "    <li>If you are writing for loops to tune your model then you need split the data into X_train,X_cv,X_test.</li>\n",
    "    <li>While splitting the data explore stratify parameter. </li>\n",
    "    <li><strong>Apply Multinomial NB on these feature sets</strong></li>\n",
    "        <ul>\n",
    "            <li>Features that need to be considered</li> \n",
    "                <dl>\n",
    "                  <dt>essay</dt>\n",
    "                    <dd>while encoding essay, try to experiment with the max_features and n_grams parameter of vectorizers and see if it increases AUC score.</dd>\n",
    "                  <dt>categorical features</dt>\n",
    "                  <dd> - teacher_prefix</dd>\n",
    "                  <dd> - project_grade_category</dd>\n",
    "                  <dd> - school_state</dd>\n",
    "                  <dd> - clean_categories</dd>\n",
    "                  <dd> - clean_subcategories</dd>\n",
    "                  <dt>numerical features</dt>\n",
    "                  <dd> - price</dd>\n",
    "                  <dd> - teacher_number_of_previously_posted_projects</dd>\n",
    "                  <dd>while encoding the numerical features check <a href='https://imgur.com/ldZA1zg'>this</a> and <a href='https://ac-classroom-production.s3.amazonaws.com/public/COMMENT/Annotation_2020-05-21_225912_0lyZzN8.jpg'>this</a></dd>\n",
    "                </dl>    \n",
    "            <li><font color='red'>Set 1</font>: categorical, numerical features + preprocessed_eassay (BOW)</li>\n",
    "            <li><font color='red'>Set 2</font>: categorical, numerical features + preprocessed_eassay (TFIDF)</li>\n",
    "        </ul>\n",
    "    <li><strong>The hyper paramter tuning(find best alpha:smoothing parameter)</strong>\n",
    "        <ul>\n",
    "    <li>Consider alpha values in range: 10^-5 to 10^2 like [0.00001,0.0005, 0.0001,0.005,0.001,0.05,0.01,0.1,0.5,1,5,10,50,100]</li>\n",
    "    <li>Explore class_prior = [0.5, 0.5] parameter which can be present in MultinomialNB function(go through <a href='https://scikit-learn.org/stable/modules/generated/sklearn.naive_bayes.MultinomialNB.html'>this</a> ) then check how results might change.\n",
    "    <li>Find the best hyper parameter which will give the maximum <a href='https://www.appliedaicourse.com/course/applied-ai-course-online/lessons/receiver-operating-characteristic-curve-roc-curve-and-auc-1/'>AUC</a> value</li>\n",
    "    <li>For hyper parameter tuning using k-fold cross validation(use GridsearchCV or RandomsearchCV)/simple cross validation data (write for loop to iterate over hyper parameter values)</li>\n",
    "    <li>You need to plot the performance of model both on train data and cross validation data for each hyper parameter, like shown in the figure\n",
    "    <img src='https://i.imgur.com/hUv6aEy.jpg' width=300px><dd>-while plotting take log(alpha) on your X-axis so that it will be more readable</dd></li>\n",
    "    <li>Once after you found the best hyper parameter, you need to train your model with it, and find the AUC on test data and plot the ROC curve on both train and test.\n",
    "    <img src='https://imgur.com/q2P65L5.jpg' width=300px></li>\n",
    "    <li>Along with plotting ROC curve, you need to print the <a href='https://www.appliedaicourse.com/course/applied-ai-course-online/lessons/confusion-matrix-tpr-fpr-fnr-tnr-1/'>confusion matrix</a> with predicted and original labels of test data points\n",
    "        <img src='https://i.imgur.com/IdN5Ctv.png' width=300px><dd>-plot the confusion matrix in heatmaps, while plotting the confusion matrix go through the <a href='https://stackoverflow.com/questions/61748441/how-to-fix-the-values-displayed-in-a-confusion-matrix-in-exponential-form-to-nor'>link </a>\n",
    "</dd></li>\n",
    "        </ul>\n",
    "<li>find the top 20 features from either from feature <font color='red'>Set 1</font> or feature <font color='red'>Set 2</font> using values of `feature_log_prob_ ` parameter of `MultinomialNB` \n",
    "(https://scikit-learn.org/stable/modules/generated/sklearn.naive_bayes.MultinomialNB.html) and print <strong>BOTH</strong> positive as well as negative corresponding feature names. <dd> - go through the <a href='https://imgur.com/mWvE7gj'>link </a> </dd>\n",
    "    </li>\n",
    "    <li>You need to summarize the results at the end of the notebook, summarize it in the table format\n",
    "        <img src='http://i.imgur.com/YVpIGGE.jpg' width=400px>\n",
    "    </li>\n",
    "</ol>"
   ]
  },
  {
   "cell_type": "markdown",
   "metadata": {
    "id": "inzYCIaib3c3"
   },
   "source": [
    "<h1>2. Naive Bayes </h1>"
   ]
  },
  {
   "cell_type": "markdown",
   "metadata": {
    "id": "FYqCIxzFb3c5"
   },
   "source": [
    "## 1.1 Loading Data"
   ]
  },
  {
   "cell_type": "code",
   "execution_count": 37,
   "metadata": {
    "id": "dA1jknyqb3c_"
   },
   "outputs": [
    {
     "name": "stdout",
     "output_type": "stream",
     "text": [
      "<class 'pandas.core.frame.DataFrame'>\n",
      "RangeIndex: 50000 entries, 0 to 49999\n",
      "Data columns (total 9 columns):\n",
      " #   Column                                        Non-Null Count  Dtype  \n",
      "---  ------                                        --------------  -----  \n",
      " 0   school_state                                  50000 non-null  object \n",
      " 1   teacher_prefix                                50000 non-null  object \n",
      " 2   project_grade_category                        50000 non-null  object \n",
      " 3   teacher_number_of_previously_posted_projects  50000 non-null  int64  \n",
      " 4   project_is_approved                           50000 non-null  int64  \n",
      " 5   clean_categories                              50000 non-null  object \n",
      " 6   clean_subcategories                           50000 non-null  object \n",
      " 7   essay                                         50000 non-null  object \n",
      " 8   price                                         50000 non-null  float64\n",
      "dtypes: float64(1), int64(2), object(6)\n",
      "memory usage: 3.4+ MB\n"
     ]
    }
   ],
   "source": [
    "#make sure you are loading atleast 50k datapoints\n",
    "#you can work with features of preprocessed_data.csv for the assignment.\n",
    "# If you want to add more features, you can add. (This is purely optional, not mandatory)\n",
    "\n",
    "import pandas\n",
    "data = pandas.read_csv('preprocessed_data.csv',nrows=50000)\n",
    "data.info()"
   ]
  },
  {
   "cell_type": "code",
   "execution_count": 38,
   "metadata": {},
   "outputs": [
    {
     "name": "stdout",
     "output_type": "stream",
     "text": [
      "['school_state' 'teacher_prefix' 'project_grade_category'\n",
      " 'teacher_number_of_previously_posted_projects' 'project_is_approved'\n",
      " 'clean_categories' 'clean_subcategories' 'essay' 'price']\n"
     ]
    }
   ],
   "source": [
    "print(data.columns.values)"
   ]
  },
  {
   "cell_type": "code",
   "execution_count": 62,
   "metadata": {},
   "outputs": [
    {
     "data": {
      "text/html": [
       "<div>\n",
       "<style scoped>\n",
       "    .dataframe tbody tr th:only-of-type {\n",
       "        vertical-align: middle;\n",
       "    }\n",
       "\n",
       "    .dataframe tbody tr th {\n",
       "        vertical-align: top;\n",
       "    }\n",
       "\n",
       "    .dataframe thead th {\n",
       "        text-align: right;\n",
       "    }\n",
       "</style>\n",
       "<table border=\"1\" class=\"dataframe\">\n",
       "  <thead>\n",
       "    <tr style=\"text-align: right;\">\n",
       "      <th></th>\n",
       "      <th>school_state</th>\n",
       "      <th>teacher_prefix</th>\n",
       "      <th>project_grade_category</th>\n",
       "      <th>teacher_number_of_previously_posted_projects</th>\n",
       "      <th>project_is_approved</th>\n",
       "      <th>clean_categories</th>\n",
       "      <th>clean_subcategories</th>\n",
       "      <th>essay</th>\n",
       "      <th>price</th>\n",
       "    </tr>\n",
       "  </thead>\n",
       "  <tbody>\n",
       "    <tr>\n",
       "      <th>0</th>\n",
       "      <td>ca</td>\n",
       "      <td>mrs</td>\n",
       "      <td>grades_prek_2</td>\n",
       "      <td>53</td>\n",
       "      <td>1</td>\n",
       "      <td>math_science</td>\n",
       "      <td>appliedsciences health_lifescience</td>\n",
       "      <td>i fortunate enough use fairy tale stem kits cl...</td>\n",
       "      <td>725.05</td>\n",
       "    </tr>\n",
       "    <tr>\n",
       "      <th>1</th>\n",
       "      <td>ut</td>\n",
       "      <td>ms</td>\n",
       "      <td>grades_3_5</td>\n",
       "      <td>4</td>\n",
       "      <td>1</td>\n",
       "      <td>specialneeds</td>\n",
       "      <td>specialneeds</td>\n",
       "      <td>imagine 8 9 years old you third grade classroo...</td>\n",
       "      <td>213.03</td>\n",
       "    </tr>\n",
       "  </tbody>\n",
       "</table>\n",
       "</div>"
      ],
      "text/plain": [
       "  school_state teacher_prefix project_grade_category  \\\n",
       "0           ca            mrs          grades_prek_2   \n",
       "1           ut             ms             grades_3_5   \n",
       "\n",
       "   teacher_number_of_previously_posted_projects  project_is_approved  \\\n",
       "0                                            53                    1   \n",
       "1                                             4                    1   \n",
       "\n",
       "  clean_categories                 clean_subcategories  \\\n",
       "0     math_science  appliedsciences health_lifescience   \n",
       "1     specialneeds                        specialneeds   \n",
       "\n",
       "                                               essay   price  \n",
       "0  i fortunate enough use fairy tale stem kits cl...  725.05  \n",
       "1  imagine 8 9 years old you third grade classroo...  213.03  "
      ]
     },
     "execution_count": 62,
     "metadata": {},
     "output_type": "execute_result"
    }
   ],
   "source": [
    "data.head(2)"
   ]
  },
  {
   "cell_type": "code",
   "execution_count": 14,
   "metadata": {},
   "outputs": [
    {
     "data": {
      "text/html": [
       "<div>\n",
       "<style scoped>\n",
       "    .dataframe tbody tr th:only-of-type {\n",
       "        vertical-align: middle;\n",
       "    }\n",
       "\n",
       "    .dataframe tbody tr th {\n",
       "        vertical-align: top;\n",
       "    }\n",
       "\n",
       "    .dataframe thead th {\n",
       "        text-align: right;\n",
       "    }\n",
       "</style>\n",
       "<table border=\"1\" class=\"dataframe\">\n",
       "  <thead>\n",
       "    <tr style=\"text-align: right;\">\n",
       "      <th></th>\n",
       "      <th>school_state</th>\n",
       "      <th>teacher_prefix</th>\n",
       "      <th>project_grade_category</th>\n",
       "      <th>teacher_number_of_previously_posted_projects</th>\n",
       "      <th>clean_categories</th>\n",
       "      <th>clean_subcategories</th>\n",
       "      <th>essay</th>\n",
       "      <th>price</th>\n",
       "    </tr>\n",
       "  </thead>\n",
       "  <tbody>\n",
       "    <tr>\n",
       "      <th>0</th>\n",
       "      <td>ca</td>\n",
       "      <td>mrs</td>\n",
       "      <td>grades_prek_2</td>\n",
       "      <td>53</td>\n",
       "      <td>math_science</td>\n",
       "      <td>appliedsciences health_lifescience</td>\n",
       "      <td>i fortunate enough use fairy tale stem kits cl...</td>\n",
       "      <td>725.05</td>\n",
       "    </tr>\n",
       "    <tr>\n",
       "      <th>1</th>\n",
       "      <td>ut</td>\n",
       "      <td>ms</td>\n",
       "      <td>grades_3_5</td>\n",
       "      <td>4</td>\n",
       "      <td>specialneeds</td>\n",
       "      <td>specialneeds</td>\n",
       "      <td>imagine 8 9 years old you third grade classroo...</td>\n",
       "      <td>213.03</td>\n",
       "    </tr>\n",
       "  </tbody>\n",
       "</table>\n",
       "</div>"
      ],
      "text/plain": [
       "  school_state teacher_prefix project_grade_category  \\\n",
       "0           ca            mrs          grades_prek_2   \n",
       "1           ut             ms             grades_3_5   \n",
       "\n",
       "   teacher_number_of_previously_posted_projects clean_categories  \\\n",
       "0                                            53     math_science   \n",
       "1                                             4     specialneeds   \n",
       "\n",
       "                  clean_subcategories  \\\n",
       "0  appliedsciences health_lifescience   \n",
       "1                        specialneeds   \n",
       "\n",
       "                                               essay   price  \n",
       "0  i fortunate enough use fairy tale stem kits cl...  725.05  \n",
       "1  imagine 8 9 years old you third grade classroo...  213.03  "
      ]
     },
     "execution_count": 14,
     "metadata": {},
     "output_type": "execute_result"
    }
   ],
   "source": [
    "y = data['project_is_approved']\n",
    "X = data.drop(['project_is_approved'],axis=1)\n",
    "X.head(2)"
   ]
  },
  {
   "cell_type": "markdown",
   "metadata": {},
   "source": [
    "# Importing all important libraries"
   ]
  },
  {
   "cell_type": "code",
   "execution_count": 13,
   "metadata": {},
   "outputs": [],
   "source": [
    "import numpy as np\n",
    "import matplotlib.pyplot as plt\n",
    "import seaborn as sns\n",
    "import nltk\n",
    "from sklearn.feature_extraction.text import TfidfVectorizer\n",
    "from sklearn.feature_extraction.text import CountVectorizer\n",
    "\n",
    "from sklearn.metrics import confusion_matrix\n",
    "from sklearn import metrics\n",
    "from sklearn.metrics import roc_curve,auc\n",
    "\n",
    "import re\n",
    "import pickle\n",
    "from tqdm import tqdm\n",
    "import os\n",
    "import warnings\n",
    "warnings.filterwarnings('ignore')\n",
    "from chart_studio.plotly import plotly\n",
    "import plotly.offline as offline\n"
   ]
  },
  {
   "cell_type": "markdown",
   "metadata": {
    "id": "WtVV13Fyb3dH"
   },
   "source": [
    "<h2>1.2 Splitting data into Train and cross validation(or test): Stratified Sampling</h2>"
   ]
  },
  {
   "cell_type": "code",
   "execution_count": 65,
   "metadata": {},
   "outputs": [],
   "source": [
    "# write your code in following steps for task 1\n",
    "# 1. Split your data.\n",
    "# 2. Perform Bag of Words Vectorization of text data.\n",
    "# 3. Perform tfidf vectorization of text data.\n",
    "# 4. perform one-hot encoding of categorical features.\n",
    "# 5. perform normalization of numerical features\n",
    "# 6. For set 1 stack up all the features using hstack()\n",
    "# 7. For set 2 stack up all the features using hstack()\n",
    "# 8. Perform hyperparameter tuning and represent the training and cross-validation AUC scores for different 'alpha' values, using a 2D line plot.\n",
    "# 9. Find the best hyperparameter 'alpha' and fit the model. Plot ROC-AUC curve(by obtaining the probabilities using 'predict proba' method)\n",
    "# 10. Plot confusion matrix based on the best threshold value\n",
    "# 11. Either for the model in set 1 or in set 2, print the top 20 features(you have to print the names, not the indexes) associated with the positive and negative classes each.\n",
    "# 12. Summarize your observations and compare both the models(ie., from set 1 and set 2) in terms of optimal hyperparameter value, train AUC and test AUC scores. \n",
    "# 13. You can use Prettytable or any other tabular format for comparison.\n",
    "\n",
    "\n",
    "# please write all the code with proper documentation, and proper titles for each subsection\n",
    "# go through documentations and blogs before you start coding\n",
    "# first figure out what to do, and then think about how to do.\n",
    "# reading and understanding error messages will be very much helpfull in debugging your code\n",
    "# when you plot any graph make sure you use \n",
    "    # a. Title, that describes your plot, this will be very helpful to the reader\n",
    "    # b. Legends if needed\n",
    "    # c. X-axis label\n",
    "    # d. Y-axis label\n",
    "    "
   ]
  },
  {
   "cell_type": "code",
   "execution_count": 66,
   "metadata": {
    "id": "i-PyprDNb3dI"
   },
   "outputs": [],
   "source": [
    "# Split the dataset \n",
    "# 1) If you want to apply simple cross-validation, split the dataset into 3 parts (ie., train, CV and test sets)\n",
    "# 2) If you want to apply K-fold CV (or) GridSearch Cross Validation (or) Randomized Search Cross Validation, just split the dataset into 2 parts (ie., train and test sets)\n",
    "\n"
   ]
  },
  {
   "cell_type": "code",
   "execution_count": 15,
   "metadata": {},
   "outputs": [
    {
     "name": "stdout",
     "output_type": "stream",
     "text": [
      "(22445, 8)\n",
      "(11055, 8)\n",
      "(16500, 8)\n"
     ]
    }
   ],
   "source": [
    "from sklearn.model_selection import train_test_split\n",
    "X_train,X_test,y_train,y_test = train_test_split(X,y,test_size=0.33,stratify=y)\n",
    "X_train,X_cv,y_train,y_cv = train_test_split(X_train,y_train,test_size=0.33,stratify=y_train)\n",
    "print(X_train.shape)\n",
    "print(X_cv.shape)\n",
    "print(X_test.shape)"
   ]
  },
  {
   "cell_type": "markdown",
   "metadata": {
    "id": "EnZwVNULb3dO"
   },
   "source": [
    "<h2>1.3 Make Data Model Ready: encoding essay, and project_title</h2>"
   ]
  },
  {
   "cell_type": "code",
   "execution_count": 147,
   "metadata": {},
   "outputs": [
    {
     "name": "stdout",
     "output_type": "stream",
     "text": [
      "Shape after performing vectorization:\n",
      "====================================================================================================\n",
      "(22445, 5000) (22445,)\n",
      "(11055, 5000) (11055,)\n",
      "(16500, 5000) (16500,)\n"
     ]
    }
   ],
   "source": [
    "# Apply Bag of Words (BOW) vectorization on 'Preprocessed_Essay' \n",
    "# Apply Bag of Words (BOW) vectorization on 'Preprocessed_Title' (Optional)\n",
    "\n",
    "vectorizer_bow = CountVectorizer(min_df=10,ngram_range=(1,4),max_features=5000)\n",
    "vectorizer_bow.fit(X_train['essay'].values)\n",
    "\n",
    "X_train_essay_BOW = vectorizer_bow.transform(X_train['essay'].values)\n",
    "X_cv_essay_BOW = vectorizer_bow.transform(X_cv['essay'].values)\n",
    "X_test_essay_BOW = vectorizer_bow.transform(X_test['essay'].values)\n",
    "print(\"Shape after performing vectorization:\")\n",
    "print(\"=\"*100)\n",
    "print(X_train_essay_BOW.shape,y_train.shape)\n",
    "print(X_cv_essay_BOW.shape,y_cv.shape)\n",
    "print(X_test_essay_BOW.shape,y_test.shape)\n",
    "\n"
   ]
  },
  {
   "cell_type": "code",
   "execution_count": null,
   "metadata": {},
   "outputs": [],
   "source": []
  },
  {
   "cell_type": "code",
   "execution_count": 17,
   "metadata": {},
   "outputs": [
    {
     "name": "stdout",
     "output_type": "stream",
     "text": [
      "Shape after performing tfiidf_vectorization:\n",
      "====================================================================================================\n",
      "(22445, 30274) (22445,)\n",
      "(11055, 30274) (11055,)\n",
      "(16500, 30274) (16500,)\n"
     ]
    }
   ],
   "source": [
    "# Apply TF-IDF vectorization on 'Preprocessed_Essay' \n",
    "# Apply TF-IDF vectorization on 'Preprocessed_Title' (Optional)\n",
    "vectorizer_tfidf = TfidfVectorizer()\n",
    "vectorizer_tfidf.fit(X_train['essay'].values)\n",
    "\n",
    "X_train_essay_tfidf = vectorizer_tfidf.transform(X_train['essay'].values)\n",
    "X_cv_essay_tfidf = vectorizer_tfidf.transform(X_cv['essay'].values)\n",
    "X_test_essay_tfidf = vectorizer_tfidf.transform(X_test['essay'].values)\n",
    "print(\"Shape after performing tfiidf_vectorization:\")\n",
    "print(\"=\"*100)\n",
    "print(X_train_essay_tfidf.shape,y_train.shape)\n",
    "print(X_cv_essay_tfidf.shape,y_cv.shape)\n",
    "print(X_test_essay_tfidf.shape,y_test.shape)"
   ]
  },
  {
   "cell_type": "markdown",
   "metadata": {
    "id": "bGy86kgHb3dX"
   },
   "source": [
    "<h2>1.4 Make Data Model Ready: encoding numerical, categorical features</h2>"
   ]
  },
  {
   "cell_type": "markdown",
   "metadata": {},
   "source": [
    "<h3>1.4.1 one hot encoding categorical features: School State</h3>"
   ]
  },
  {
   "cell_type": "code",
   "execution_count": 150,
   "metadata": {
    "id": "EfXkofX1b3da"
   },
   "outputs": [
    {
     "name": "stdout",
     "output_type": "stream",
     "text": [
      "After vectorization of feature_school_state:\n",
      "====================================================================================================\n",
      "(22445, 51) (22445,)\n",
      "(11055, 51) (11055,)\n",
      "(16500, 51) (16500,)\n",
      "['ak', 'al', 'ar', 'az', 'ca', 'co', 'ct', 'dc', 'de', 'fl', 'ga', 'hi', 'ia', 'id', 'il', 'in', 'ks', 'ky', 'la', 'ma', 'md', 'me', 'mi', 'mn', 'mo', 'ms', 'mt', 'nc', 'nd', 'ne', 'nh', 'nj', 'nm', 'nv', 'ny', 'oh', 'ok', 'or', 'pa', 'ri', 'sc', 'sd', 'tn', 'tx', 'ut', 'va', 'vt', 'wa', 'wi', 'wv', 'wy']\n"
     ]
    }
   ],
   "source": [
    "# Apply One-Hot Encoding on the categorical features either using OneHotEncoder() (or) CountVectorizer(binary=True)\n",
    "# Apply Normalization on the numerical features using Normalizer().\n",
    "vectorizer_state = CountVectorizer(binary=True)\n",
    "vectorizer_state.fit(X_train['school_state'].values)\n",
    "\n",
    "X_train_school_state = vectorizer_state.transform(X_train['school_state'].values)\n",
    "X_cv_school_state = vectorizer_state.transform(X_cv['school_state'].values)\n",
    "X_test_school_state = vectorizer_state.transform(X_test['school_state'].values)\n",
    "\n",
    "print(\"After vectorization of feature_school_state:\")\n",
    "print(\"=\"*100)\n",
    "print(X_train_school_state.shape,y_train.shape)\n",
    "print(X_cv_school_state.shape,y_cv.shape)\n",
    "print(X_test_school_state.shape,y_test.shape)\n",
    "\n",
    "print(vectorizer_sch.get_feature_names())"
   ]
  },
  {
   "cell_type": "markdown",
   "metadata": {},
   "source": [
    "<h3>1.4.2 encoding categorical features: teacher_prefix</h3>"
   ]
  },
  {
   "cell_type": "code",
   "execution_count": 151,
   "metadata": {},
   "outputs": [
    {
     "name": "stdout",
     "output_type": "stream",
     "text": [
      "Unique categories in teacher prefix: ['mrs' 'ms' 'mr' 'teacher' 'dr']\n",
      "====================================================================================================\n",
      "\n",
      "After vectorization of teacher_prefix:\n",
      "====================================================================================================\n",
      "(22445, 5) (22445,)\n",
      "(11055, 5) (11055,)\n",
      "(16500, 5) (16500,)\n"
     ]
    }
   ],
   "source": [
    "print(\"Unique categories in teacher prefix:\",X_train['teacher_prefix'].unique())\n",
    "print(\"=\"*100)\n",
    "vectorizer_teach = CountVectorizer(binary=True)\n",
    "vectorizer_teach.fit(X_train['teacher_prefix'].values)\n",
    "\n",
    "X_train_teacher_prefix = vectorizer_teach.transform(X_train['teacher_prefix'].values)\n",
    "X_cv_teacher_prefix = vectorizer_teach.transform(X_cv['teacher_prefix'].values)\n",
    "X_test_teacher_prefix = vectorizer_teach.transform(X_test['teacher_prefix'].values)\n",
    "print(\"\\nAfter vectorization of teacher_prefix:\")\n",
    "print(\"=\"*100)\n",
    "print(X_train_teacher_prefix.shape,y_train.shape)\n",
    "print(X_cv_teacher_prefix.shape,y_cv.shape)\n",
    "print(X_test_teacher_prefix.shape,y_test.shape)"
   ]
  },
  {
   "cell_type": "markdown",
   "metadata": {},
   "source": [
    "<h3>1.4.3 one hot encoding categorical features: project_grade_category</h3>"
   ]
  },
  {
   "cell_type": "code",
   "execution_count": 152,
   "metadata": {},
   "outputs": [
    {
     "name": "stdout",
     "output_type": "stream",
     "text": [
      "['grades_prek_2' 'grades_9_12' 'grades_3_5' 'grades_6_8']\n",
      "====================================================================================================\n",
      "\n",
      "Shape after vectorization of project_grade_category\n",
      "====================================================================================================\n",
      "(22445, 4) (22445,)\n",
      "(11055, 4) (11055,)\n",
      "(16500, 4) (16500,)\n"
     ]
    }
   ],
   "source": [
    "print(X_train['project_grade_category'].unique())\n",
    "print(\"=\"*100)\n",
    "vectorizer_grade = CountVectorizer(binary=True)\n",
    "vectorizer_grade.fit(X_train['project_grade_category'].values)\n",
    "\n",
    "X_train_grade = vectorizer_grade.transform(X_train['project_grade_category'].values)\n",
    "X_cv_grade = vectorizer_grade.transform(X_cv['project_grade_category'].values)\n",
    "X_test_grade = vectorizer_grade.transform(X_test['project_grade_category'].values)\n",
    "print(\"\\nShape after vectorization of project_grade_category\")\n",
    "print(\"=\"*100)\n",
    "print(X_train_grade.shape,y_train.shape)\n",
    "print(X_cv_grade.shape,y_cv.shape)\n",
    "print(X_test_grade.shape,y_test.shape)"
   ]
  },
  {
   "cell_type": "markdown",
   "metadata": {},
   "source": [
    "<h3>1.4.4 one hot encoding categorical features: clean_categories</h3>"
   ]
  },
  {
   "cell_type": "code",
   "execution_count": 153,
   "metadata": {},
   "outputs": [
    {
     "name": "stdout",
     "output_type": "stream",
     "text": [
      "Shapes after vectorizing clean_categories feature:\n",
      "====================================================================================================\n",
      "(22445, 9)\n",
      "(11055, 9) (11055,)\n",
      "(16500, 9) (16500,)\n",
      "['appliedsciences', 'care_hunger', 'charactereducation', 'civics_government', 'college_careerprep', 'communityservice', 'earlydevelopment', 'economics', 'environmentalscience', 'esl', 'extracurricular', 'financialliteracy', 'foreignlanguages', 'gym_fitness', 'health_lifescience', 'health_wellness', 'history_geography', 'literacy', 'literature_writing', 'mathematics', 'music', 'nutritioneducation', 'other', 'parentinvolvement', 'performingarts', 'socialsciences', 'specialneeds', 'teamsports', 'visualarts', 'warmth']\n"
     ]
    }
   ],
   "source": [
    "vectorizer_clean = CountVectorizer(binary=True)\n",
    "vectorizer_clean.fit(X_train[\"clean_categories\"].values)\n",
    "\n",
    "X_train_clean_cate = vectorizer_clean.transform(X_train['clean_categories'].values)\n",
    "X_cv_clean_cate = vectorizer_clean.transform(X_cv['clean_categories'].values)\n",
    "X_test_clean_cate = vectorizer_clean.transform(X_test['clean_categories'].values)\n",
    "print(\"Shapes after vectorizing clean_categories feature:\")\n",
    "print(\"=\"*100)\n",
    "print(X_train_clean_cate.shape)\n",
    "print(X_cv_clean_cate.shape,y_cv.shape)\n",
    "print(X_test_clean_cate.shape,y_test.shape)\n",
    "print(vectorizer.get_feature_names())"
   ]
  },
  {
   "cell_type": "markdown",
   "metadata": {},
   "source": [
    "<h3>1.4.5 one hot encoding categorical features: clean_subcategories</h3>"
   ]
  },
  {
   "cell_type": "code",
   "execution_count": 154,
   "metadata": {},
   "outputs": [
    {
     "name": "stdout",
     "output_type": "stream",
     "text": [
      "Shapes after vectorizing clean_subcategories feature:\n",
      "====================================================================================================\n",
      "(22445, 30) (22445,)\n",
      "(11055, 30) (11055,)\n",
      "(16500, 30) (16500,)\n"
     ]
    }
   ],
   "source": [
    "vectorizer_sub = CountVectorizer(binary=True)\n",
    "vectorizer_sub.fit(X_train['clean_subcategories'].values)\n",
    "\n",
    "X_train_subcate = vectorizer_sub.transform(X_train['clean_subcategories'].values)\n",
    "X_cv_subcate = vectorizer_sub.transform(X_cv['clean_subcategories'])\n",
    "X_test_subcate = vectorizer_sub.transform(X_test['clean_subcategories'])\n",
    "print(\"Shapes after vectorizing clean_subcategories feature:\")\n",
    "print('='*100)\n",
    "print(X_train_subcate.shape,y_train.shape)\n",
    "print(X_cv_subcate.shape,y_cv.shape)\n",
    "print(X_test_subcate.shape,y_test.shape)"
   ]
  },
  {
   "cell_type": "markdown",
   "metadata": {},
   "source": [
    "<h3>1.4.6 encoding numerical features: Price</h3>"
   ]
  },
  {
   "cell_type": "code",
   "execution_count": 155,
   "metadata": {},
   "outputs": [
    {
     "name": "stdout",
     "output_type": "stream",
     "text": [
      "encoding numerical features Price:\n",
      "====================================================================================================\n",
      "(22445, 1)\n",
      "(11055, 1)\n",
      "(16500, 1)\n"
     ]
    }
   ],
   "source": [
    "from sklearn.preprocessing import MinMaxScaler\n",
    "price_scaler = MinMaxScaler()\n",
    "price_scaler.fit(X_train['price'].values.reshape(-1,1))\n",
    "X_train_price_scaler = price_scaler.transform(X_train['price'].values.reshape(-1,1))\n",
    "X_cv_price_scaler = price_scaler.transform(X_cv['price'].values.reshape(-1,1))\n",
    "X_test_price_scaler = price_scaler.transform(X_test['price'].values.reshape(-1,1))\n",
    "print(\"encoding numerical features Price:\")\n",
    "print(\"=\"*100)\n",
    "print(X_train_price_scaler.shape)\n",
    "print(X_cv_price_scaler.shape)\n",
    "print(X_test_price_scaler.shape)\n",
    "\n"
   ]
  },
  {
   "cell_type": "markdown",
   "metadata": {},
   "source": [
    "<h3>1.4.7 encoding teacher_number_of_previously_posted_projects <h3>"
   ]
  },
  {
   "cell_type": "code",
   "execution_count": 156,
   "metadata": {},
   "outputs": [
    {
     "name": "stdout",
     "output_type": "stream",
     "text": [
      "encoding numerical features teacher_number_of_previously_posted_projects:\n",
      "====================================================================================================\n",
      "(22445, 1)\n",
      "(11055, 1)\n",
      "(16500, 1)\n"
     ]
    }
   ],
   "source": [
    "from sklearn.preprocessing import MinMaxScaler\n",
    "previous_year_scaler = MinMaxScaler()\n",
    "\n",
    "previous_year_scaler.fit(X_train['teacher_number_of_previously_posted_projects'].values.reshape(-1,1))\n",
    "\n",
    "X_train_previous_projects = previous_year_scaler.transform(X_train['teacher_number_of_previously_posted_projects'].values.reshape(-1,1))\n",
    "X_cv_previous_projects = previous_year_scaler.transform(X_cv['teacher_number_of_previously_posted_projects'].values.reshape(-1,1))\n",
    "X_test_previous_projects = previous_year_scaler.transform(X_test['teacher_number_of_previously_posted_projects'].values.reshape(-1,1))\n",
    "\n",
    "print(\"encoding numerical features teacher_number_of_previously_posted_projects:\")\n",
    "print(\"=\"*100)\n",
    "print(X_train_previous_projects.shape)\n",
    "print(X_cv_previous_projects.shape)\n",
    "print(X_test_previous_projects.shape)"
   ]
  },
  {
   "cell_type": "markdown",
   "metadata": {
    "id": "yYHPYadYb3dh"
   },
   "source": [
    "<h2>1.5 Appling NB on different kind of featurization as mentioned in the instructions</h2>\n",
    "\n",
    "<br>Apply NB on different kind of featurization as mentioned in the instructions\n",
    "<br> For Every model that you work on make sure you do the step 2 and step 3 of instrucations"
   ]
  },
  {
   "cell_type": "markdown",
   "metadata": {
    "id": "DNwqilFxb3di"
   },
   "source": [
    "#### Set 1"
   ]
  },
  {
   "cell_type": "code",
   "execution_count": 25,
   "metadata": {},
   "outputs": [
    {
     "name": "stdout",
     "output_type": "stream",
     "text": [
      "(22445, 5101) (22445,)\n",
      "(11055, 5101) (11055,)\n",
      "(16500, 5101) (16500,)\n"
     ]
    }
   ],
   "source": [
    "# Perform Hyperparameter Tuning.\n",
    "# Plot the training and the CV AUC scores, for different values of 'alpha', using a 2D line plot\n",
    "from scipy.sparse import hstack\n",
    "# Set 1: categorical, numerical features  + preprocessed_essay (BOW)\n",
    "x_tr = hstack((X_train_school_state,X_train_clean_cate,X_train_grade,X_train_subcate,X_train_teacher_prefix,X_train_essay_BOW,X_train_price_scaler,X_train_previous_projects))\n",
    "x_cv = hstack((X_cv_school_state,X_cv_clean_cate,X_cv_grade,X_cv_subcate,X_cv_teacher_prefix,X_cv_essay_BOW,X_cv_price_scaler,X_cv_previous_projects))\n",
    "x_ts = hstack((X_test_school_state,X_test_clean_cate,X_test_grade,X_test_subcate,X_test_teacher_prefix,X_test_essay_BOW,X_test_price_scaler,X_test_previous_projects))\n",
    "x_tr = x_tr.tocsr()\n",
    "x_ts = x_ts.tocsr()\n",
    "x_cv = x_cv.tocsr()\n",
    "print(x_tr.shape,y_train.shape)\n",
    "print(x_cv.shape,y_cv.shape)\n",
    "print(x_ts.shape,y_test.shape)"
   ]
  },
  {
   "cell_type": "code",
   "execution_count": 127,
   "metadata": {},
   "outputs": [],
   "source": [
    "\n",
    "import math as m\n",
    "\n",
    "alpha = [0.00001, 0.0001,0.001,0.01,0.1,1,10,100,1000,10000]\n",
    "log_alpha = list(map(lambda x: m.log10(x),alpha))\n",
    "\n"
   ]
  },
  {
   "cell_type": "code",
   "execution_count": 128,
   "metadata": {
    "scrolled": true
   },
   "outputs": [
    {
     "name": "stderr",
     "output_type": "stream",
     "text": [
      "100%|██████████████████████████████████████████████████████████████████████████████████| 10/10 [00:00<00:00, 21.65it/s]\n"
     ]
    },
    {
     "data": {
      "image/png": "[encoded data removed]",
      "text/plain": [
       "<Figure size 432x288 with 1 Axes>"
      ]
     },
     "metadata": {
      "needs_background": "light"
     },
     "output_type": "display_data"
    }
   ],
   "source": [
    "# Obtain the optimal value for 'alpha' and using the obtained optimal 'alpha' value, fit a multinomial naive bayes model, on the train data,\n",
    "# Note: If you have split the datase into 3 parts (ie., train, cv and test sets) in the beginning, then the training datafor this final model would be (train set + cv set)\n",
    "# Make class label and probability predictions on the train and test data.\n",
    "from tqdm import tqdm\n",
    "from sklearn.naive_bayes import MultinomialNB\n",
    "import matplotlib.pyplot as plt\n",
    "from sklearn.metrics import roc_auc_score\n",
    "\n",
    "train_auc = []\n",
    "cv_auc = []\n",
    "\n",
    "for i in tqdm(alpha):\n",
    "    neigh = MultinomialNB(alpha = i,class_prior=[0.5,0.5])\n",
    "    neigh.fit(x_tr,y_train)\n",
    "    \n",
    "    y_train_pred = neigh.predict_proba(x_tr)[:,1]\n",
    "    y_cv_pred = neigh.predict_proba(x_cv)[:,1]\n",
    "    \n",
    "    train_auc.append(roc_auc_score(y_train,y_train_pred))\n",
    "    cv_auc.append(roc_auc_score(y_cv,y_cv_pred))\n",
    "    \n",
    "plt.plot(log_alpha,train_auc,label='train_AUC')\n",
    "plt.plot(log_alpha,cv_auc,label='cv_AUC')\n",
    "\n",
    "plt.scatter(log_alpha,train_auc,label = 'train_auc_points')\n",
    "plt.scatter(log_alpha,cv_auc,label = 'cv_auc_points')\n",
    "plt.xlabel(\"Hyperparameter\")\n",
    "plt.ylabel(\"Area Under ROC curve\")\n",
    "plt.title(\"Hyperparameter vs AUC_ROC\")\n",
    "plt.grid()\n",
    "plt.legend()\n",
    "plt.show()"
   ]
  },
  {
   "cell_type": "code",
   "execution_count": 129,
   "metadata": {},
   "outputs": [],
   "source": [
    "best_alpha = 1 "
   ]
  },
  {
   "cell_type": "code",
   "execution_count": 130,
   "metadata": {},
   "outputs": [
    {
     "data": {
      "image/png": "[encoded data removed]",
      "text/plain": [
       "<Figure size 432x288 with 1 Axes>"
      ]
     },
     "metadata": {
      "needs_background": "light"
     },
     "output_type": "display_data"
    }
   ],
   "source": [
    "# Plot the ROC-AUC curves using the probability predictions made on train and test data.\n",
    "#from sklearn.preprocessing import roc_curve,auc\n",
    "from sklearn.metrics import roc_curve\n",
    "neigh = MultinomialNB(alpha = best_alpha,class_prior=[0.5,0.5])\n",
    "neigh.fit(x_tr,y_train)\n",
    "\n",
    "y_train_pred = neigh.predict_proba(x_tr)[:,1]\n",
    "y_test_pred = neigh.predict_proba(x_ts)[:,1]\n",
    "\n",
    "train_fpr,train_tpr,train_thresholds = roc_curve(y_train,y_train_pred)\n",
    "test_fpr,test_tpr,test_thresholds = roc_curve(y_test,y_test_pred)\n",
    "\n",
    "train_auc = auc(train_fpr,train_tpr)\n",
    "test_auc = auc(test_fpr,test_tpr)\n",
    "\n",
    "plt.plot(train_fpr,train_tpr,label='train_auc_curve='+str(train_auc))\n",
    "plt.plot(test_fpr,test_tpr,label='test_auc_curve='+str(test_auc))\n",
    "plt.grid()\n",
    "plt.xlabel('Flase Positive Rate')\n",
    "plt.ylabel('True Positive Rate')\n",
    "plt.legend()\n",
    "plt.title(\"FPR vs TPR\")\n",
    "plt.show()\n"
   ]
  },
  {
   "cell_type": "code",
   "execution_count": 131,
   "metadata": {},
   "outputs": [],
   "source": [
    "# Pick the best threshold among the probability estimates, such that it has to yield maximum value for TPR*(1-FPR)\n",
    "# Plot the confusion matrices(each for train and test data) afer encoding the predicted class labels, on the basis of the best threshod probability estimate.\n",
    "def best_threshold(threshould,fpr,tpr):\n",
    "    t = threshould[np.argmax(tpr*(1-fpr))]\n",
    "     # (tpr*(1-fpr)) will be maximum if your fpr is very low and tpr is very high\n",
    "    print(\"the maximum value of tpr*(1-fpr)\", max(tpr*(1-fpr)), \"for threshold\", np.round(t,3))\n",
    "    return t\n",
    "def predict_with_best_t(proba,threshould):\n",
    "    predictions = []\n",
    "    for i in proba:\n",
    "        if i>=threshould:\n",
    "            predictions.append(1)\n",
    "        else:\n",
    "            predictions.append(0)\n",
    "    return predictions"
   ]
  },
  {
   "cell_type": "code",
   "execution_count": 132,
   "metadata": {},
   "outputs": [
    {
     "name": "stdout",
     "output_type": "stream",
     "text": [
      "====================================================================================================\n",
      "the maximum value of tpr*(1-fpr) 0.4831073809409621 for threshold 0.493\n",
      "Train_Confusion_matrix\n",
      "[[ 2486  1109]\n",
      " [ 5681 13169]]\n",
      "====================================================================================================\n",
      "Test_Confusion_matrix\n",
      "[[1609 1033]\n",
      " [4351 9507]]\n"
     ]
    }
   ],
   "source": [
    "print(\"=\"*100)\n",
    "from sklearn.metrics import confusion_matrix\n",
    "best_t = best_threshold(train_thresholds,train_fpr,train_tpr)\n",
    "print(\"Train_Confusion_matrix\")\n",
    "print(confusion_matrix(y_train,predict_with_best_t(y_train_pred,best_t)))\n",
    "print(\"=\"*100)\n",
    "print(\"Test_Confusion_matrix\")\n",
    "print(confusion_matrix(y_test,predict_with_best_t(y_test_pred,best_t)))"
   ]
  },
  {
   "cell_type": "code",
   "execution_count": 133,
   "metadata": {},
   "outputs": [
    {
     "data": {
      "image/png": "[encoded data removed]",
      "text/plain": [
       "<Figure size 432x288 with 2 Axes>"
      ]
     },
     "metadata": {
      "needs_background": "light"
     },
     "output_type": "display_data"
    },
    {
     "name": "stdout",
     "output_type": "stream",
     "text": [
      "====================================================================================================\n"
     ]
    },
    {
     "data": {
      "image/png": "[encoded data removed]",
      "text/plain": [
       "<Figure size 432x288 with 2 Axes>"
      ]
     },
     "metadata": {
      "needs_background": "light"
     },
     "output_type": "display_data"
    }
   ],
   "source": [
    "import seaborn as sns\n",
    "heatmap_train = sns.heatmap(confusion_matrix(y_train,predict_with_best_t(y_train_pred,best_t)),annot=True,fmt = 'd')\n",
    "plt.title(\"Train_set_confusion_matrix\")\n",
    "plt.xlabel(\"Actual\")\n",
    "plt.ylabel(\"Predicted\")\n",
    "plt.show()\n",
    "print(\"=\"*100)\n",
    "heatmap_test = sns.heatmap(confusion_matrix(y_test,predict_with_best_t(y_test_pred,best_t)),annot=True,fmt='d')\n",
    "plt.title(\"Test_Set_confusion_matrix\")\n",
    "plt.xlabel('Actual')\n",
    "plt.ylabel('Predicted')\n",
    "plt.show()"
   ]
  },
  {
   "cell_type": "markdown",
   "metadata": {},
   "source": [
    "#### Set 2"
   ]
  },
  {
   "cell_type": "code",
   "execution_count": 134,
   "metadata": {},
   "outputs": [
    {
     "name": "stdout",
     "output_type": "stream",
     "text": [
      "(22445, 30375) (22445,)\n",
      "(11055, 30375) (11055,)\n",
      "(16500, 30375) (16500,)\n"
     ]
    }
   ],
   "source": [
    "from scipy.sparse import hstack\n",
    "\n",
    "X_tr = hstack((X_train_school_state,X_train_clean_cate,X_train_grade,X_train_subcate,X_train_teacher_prefix,X_train_essay_tfidf,X_train_price_scaler,X_train_previous_projects))\n",
    "X_cv1 = hstack((X_cv_school_state,X_cv_clean_cate,X_cv_grade,X_cv_subcate,X_cv_teacher_prefix,X_cv_essay_tfidf,X_cv_price_scaler,X_cv_previous_projects))\n",
    "X_ts = hstack((X_test_school_state,X_test_clean_cate,X_test_grade,X_test_subcate,X_test_teacher_prefix,X_test_essay_tfidf,X_test_price_scaler,X_test_previous_projects))\n",
    "\n",
    "X_tr = X_tr.tocsr()\n",
    "X_cv1 = X_cv1.tocsr()\n",
    "X_ts = X_ts.tocsr()\n",
    "\n",
    "print(X_tr.shape,y_train.shape)\n",
    "print(X_cv1.shape,y_cv.shape)\n",
    "print(X_ts.shape,y_test.shape)"
   ]
  },
  {
   "cell_type": "code",
   "execution_count": 135,
   "metadata": {},
   "outputs": [
    {
     "name": "stderr",
     "output_type": "stream",
     "text": [
      "100%|██████████████████████████████████████████████████████████████████████████████████| 10/10 [00:00<00:00, 22.84it/s]\n"
     ]
    },
    {
     "data": {
      "image/png": "[encoded data removed]",
      "text/plain": [
       "<Figure size 432x288 with 1 Axes>"
      ]
     },
     "metadata": {
      "needs_background": "light"
     },
     "output_type": "display_data"
    }
   ],
   "source": [
    "# Perform Hyperparameter Tuning.\n",
    "# Plot the training and the CV AUC scores, for different values of 'alpha', using a 2D line plot\n",
    "from tqdm import tqdm\n",
    "from sklearn.naive_bayes import MultinomialNB\n",
    "import matplotlib.pyplot as plt\n",
    "from sklearn.metrics import roc_auc_score\n",
    "\n",
    "train_auc1 = []\n",
    "cv_auc1 = []\n",
    "for i in tqdm (alpha):\n",
    "    neigh = MultinomialNB(alpha=i,class_prior=[0.5,0.5])\n",
    "    neigh.fit(X_tr,y_train)\n",
    "    \n",
    "    y_train_pred1 = neigh.predict_proba(X_tr)[:,1]\n",
    "    y_cv_pred1 = neigh.predict_proba(X_cv1)[:,1]\n",
    "    \n",
    "    train_auc1.append(roc_auc_score(y_train,y_train_pred1))\n",
    "    cv_auc1.append(roc_auc_score(y_cv,y_cv_pred1))\n",
    "\n",
    "plt.plot(log_alpha,train_auc1,label='train_auc_curve')\n",
    "plt.plot(log_alpha,cv_auc1,label='cv_auc_curve')\n",
    "\n",
    "plt.scatter(log_alpha,train_auc1,label='train_auc_points')\n",
    "plt.scatter(log_alpha,cv_auc1,label='cv_auc_points')\n",
    "plt.title(\"Hyperparameter vs Auc_Roc\")\n",
    "plt.xlabel('Hyperparameter')\n",
    "plt.ylabel('Auc_Roc')\n",
    "plt.legend()\n",
    "plt.grid()\n",
    "plt.show()"
   ]
  },
  {
   "cell_type": "code",
   "execution_count": 108,
   "metadata": {},
   "outputs": [],
   "source": [
    "best_alpha1 = 0.1"
   ]
  },
  {
   "cell_type": "code",
   "execution_count": 136,
   "metadata": {},
   "outputs": [],
   "source": [
    "# Obtain the optimal value for 'alpha' and using the obtained optimal 'alpha' value, fit a multinomial naive bayes model, on the train data,\n",
    "# Note: If you have split the datase into 3 parts (ie., train, cv and test sets) in the beginning, then the training datafor this final model would be (train set + cv set)\n",
    "# Make class label and probability predictions on the train and test data.\n",
    "from sklearn.naive_bayes import MultinomialNB\n",
    "neigh = MultinomialNB(alpha=best_alpha1,class_prior=[0.5,0.5])\n",
    "neigh.fit(X_tr,y_train)\n",
    "\n",
    "y_train_pred1 = neigh.predict_proba(X_tr)[:,1]\n",
    "y_test_pred1 = neigh.predict_proba(X_ts)[:,1]\n",
    "\n",
    "train_fpr1,train_tpr1,train_threshold1 = roc_curve(y_train,y_train_pred1)\n",
    "test_fpr1,test_tpr1,test_threshold1 = roc_curve(y_test,y_test_pred1)\n",
    "\n",
    "train_auc1 = auc(train_fpr1,train_tpr1)\n",
    "test_auc1 = auc(test_fpr1,test_tpr1)\n",
    "\n"
   ]
  },
  {
   "cell_type": "code",
   "execution_count": 137,
   "metadata": {},
   "outputs": [
    {
     "data": {
      "image/png": "[encoded data removed]",
      "text/plain": [
       "<Figure size 432x288 with 1 Axes>"
      ]
     },
     "metadata": {
      "needs_background": "light"
     },
     "output_type": "display_data"
    }
   ],
   "source": [
    "# Plot the ROC-AUC curves using the probability predictions made on train and test data.\n",
    "plt.plot(train_fpr1,train_tpr1,label='train_ROC-Auc_curve')\n",
    "plt.plot(test_fpr1,test_tpr1,label='test_ROC-Auc_curve')\n",
    "plt.title(\"FPR vs TPR\")\n",
    "plt.xlabel(\"False Positive rate\")\n",
    "plt.ylabel(\"True Positive rate\")\n",
    "plt.legend()\n",
    "plt.grid()\n",
    "plt.show()"
   ]
  },
  {
   "cell_type": "code",
   "execution_count": 143,
   "metadata": {},
   "outputs": [
    {
     "name": "stdout",
     "output_type": "stream",
     "text": [
      "====================================================================================================\n",
      "the maximum value of tpr*(1-fpr) 0.6077491948366247 for threshold 0.551\n",
      "Train_Confusion_matrix\n",
      "[[ 2785   810]\n",
      " [ 4062 14788]]\n",
      "====================================================================================================\n",
      "Test_Confusion_matrix\n",
      "[[ 1271  1371]\n",
      " [ 3474 10384]]\n"
     ]
    }
   ],
   "source": [
    "# Pick the best threshold among the probability estimates, such that it has to yield maximum value for TPR*(1-FPR)\n",
    "# Plot the confusion matrices(each for train and test data) afer encoding the predicted class labels, on the basis of the best threshod probability estimate.\n",
    "print(\"=\"*100)\n",
    "from sklearn.metrics import confusion_matrix\n",
    "best_t1 = best_threshold(train_threshold1,train_fpr1,train_tpr1)\n",
    "print(\"Train_Confusion_matrix\")\n",
    "print(confusion_matrix(y_train,predict_with_best_t(y_train_pred1,best_t1)))\n",
    "print(\"=\"*100)\n",
    "print(\"Test_Confusion_matrix\")\n",
    "print(confusion_matrix(y_test,predict_with_best_t(y_test_pred1,best_t1)))"
   ]
  },
  {
   "cell_type": "code",
   "execution_count": 144,
   "metadata": {},
   "outputs": [
    {
     "data": {
      "image/png": "[encoded data removed]",
      "text/plain": [
       "<Figure size 432x288 with 2 Axes>"
      ]
     },
     "metadata": {
      "needs_background": "light"
     },
     "output_type": "display_data"
    },
    {
     "name": "stdout",
     "output_type": "stream",
     "text": [
      "====================================================================================================\n"
     ]
    },
    {
     "data": {
      "image/png": "[encoded data removed]",
      "text/plain": [
       "<Figure size 432x288 with 2 Axes>"
      ]
     },
     "metadata": {
      "needs_background": "light"
     },
     "output_type": "display_data"
    }
   ],
   "source": [
    "import seaborn as sns\n",
    "heatmap_train1 = sns.heatmap(confusion_matrix(y_train,predict_with_best_t(y_train_pred1,best_t1)),annot=True,fmt = 'd')\n",
    "plt.title(\"Train_set_confusion_matrix\")\n",
    "plt.xlabel(\"Actual\")\n",
    "plt.ylabel(\"Predicted\")\n",
    "plt.show()\n",
    "print(\"=\"*100)\n",
    "heatmap_test1 = sns.heatmap(confusion_matrix(y_test,predict_with_best_t(y_test_pred1,best_t1)),annot=True,fmt='d')\n",
    "plt.title(\"Test_Set_confusion_matrix\")\n",
    "plt.xlabel('Actual')\n",
    "plt.ylabel('Predicted')\n",
    "plt.show()"
   ]
  },
  {
   "cell_type": "markdown",
   "metadata": {},
   "source": [
    "<h3>Top 10 important features of positive class from SET 2<h3>"
   ]
  },
  {
   "cell_type": "code",
   "execution_count": 165,
   "metadata": {},
   "outputs": [
    {
     "name": "stdout",
     "output_type": "stream",
     "text": [
      "30375\n"
     ]
    }
   ],
   "source": [
    "# Either from set 1 (or) set 2, print the names of the top 20 features associated with the positive and negative classes each. (You have to print the names of the features, but not the indexes)\n",
    "tfidf_feature_probs_p = []\n",
    "for k in range(30375):\n",
    "    tfidf_feature_probs_p.append(neigh.feature_log_prob_[1,k])\n",
    "print(len(tfidf_feature_probs_p))\n"
   ]
  },
  {
   "cell_type": "code",
   "execution_count": 166,
   "metadata": {},
   "outputs": [
    {
     "name": "stdout",
     "output_type": "stream",
     "text": [
      "30375\n"
     ]
    }
   ],
   "source": [
    "tfidf_feature_names = []\n",
    "for k in vectorizer_state.get_feature_names():#school_state\n",
    "    tfidf_feature_names.append(k)\n",
    "for k in vectorizer_clean.get_feature_names():#clean_categories\n",
    "    tfidf_feature_names.append(k)\n",
    "for k in vectorizer_grade.get_feature_names():#project_grade_category\n",
    "    tfidf_feature_names.append(k)\n",
    "for k in vectorizer_sub.get_feature_names():#clean_subcategories\n",
    "    tfidf_feature_names.append(k)\n",
    "for k in vectorizer_teach.get_feature_names():# teacher_prefix\n",
    "    tfidf_feature_names.append(k)\n",
    "for k in vectorizer_tfidf.get_feature_names():#essay_tfidf\n",
    "    tfidf_feature_names.append(k)\n",
    "tfidf_feature_names.append(price_scaler)#price\n",
    "tfidf_feature_names.append(previous_year_scaler)#previously_approved_projects\n",
    "\n",
    "print(len(tfidf_feature_names))"
   ]
  },
  {
   "cell_type": "code",
   "execution_count": 168,
   "metadata": {},
   "outputs": [
    {
     "name": "stdout",
     "output_type": "stream",
     "text": [
      "    feature_probs       feature_names\n",
      "96      -3.336371                 mrs\n",
      "55      -3.454977   literacy_language\n",
      "63      -3.602846       grades_prek_2\n",
      "56      -3.737312        math_science\n",
      "97      -3.773080                  ms\n",
      "60      -3.786116          grades_3_5\n",
      "81      -3.893054            literacy\n",
      "83      -4.108450         mathematics\n",
      "82      -4.297910  literature_writing\n",
      "53      -4.420497       health_sports\n"
     ]
    }
   ],
   "source": [
    "import pandas as pd\n",
    "tfidf_features = pd.DataFrame({'feature_probs':tfidf_feature_probs_p,'feature_names':tfidf_feature_names})\n",
    "final_tfidf_features = tfidf_features.sort_values(by='feature_probs',ascending=False)\n",
    "print(final_tfidf_features.head(10))"
   ]
  },
  {
   "cell_type": "markdown",
   "metadata": {},
   "source": [
    "<h3> Top 10 important features of negative class from SET 2 <h3>"
   ]
  },
  {
   "cell_type": "code",
   "execution_count": 194,
   "metadata": {},
   "outputs": [
    {
     "name": "stdout",
     "output_type": "stream",
     "text": [
      "30375\n"
     ]
    }
   ],
   "source": [
    "tfidf_feature_probs_n = []\n",
    "for k in range(30375):\n",
    "    tfidf_feature_probs_n.append(neigh.feature_log_prob_[0,k])\n",
    "print(len(tfidf_feature_probs_n))"
   ]
  },
  {
   "cell_type": "code",
   "execution_count": 171,
   "metadata": {},
   "outputs": [
    {
     "name": "stdout",
     "output_type": "stream",
     "text": [
      "30375\n"
     ]
    }
   ],
   "source": [
    "tfidf_feature_names = []\n",
    "for k in vectorizer_state.get_feature_names():#school_state\n",
    "    tfidf_feature_names.append(k)\n",
    "for k in vectorizer_clean.get_feature_names():#clean_categories\n",
    "    tfidf_feature_names.append(k)\n",
    "for k in vectorizer_grade.get_feature_names():#project_grade_category\n",
    "    tfidf_feature_names.append(k)\n",
    "for k in vectorizer_sub.get_feature_names():#clean_subcategories\n",
    "    tfidf_feature_names.append(k)\n",
    "for k in vectorizer_teach.get_feature_names():# teacher_prefix\n",
    "    tfidf_feature_names.append(k)\n",
    "for k in vectorizer_tfidf.get_feature_names():#essay_tfidf\n",
    "    tfidf_feature_names.append(k)\n",
    "tfidf_feature_names.append(price_scaler)#price\n",
    "tfidf_feature_names.append(previous_year_scaler)#previously_approved_projects\n",
    "\n",
    "print(len(tfidf_feature_names))"
   ]
  },
  {
   "cell_type": "code",
   "execution_count": 172,
   "metadata": {},
   "outputs": [
    {
     "name": "stdout",
     "output_type": "stream",
     "text": [
      "    feature_probs       feature_names\n",
      "96      -3.430015                 mrs\n",
      "63      -3.615407       grades_prek_2\n",
      "55      -3.616069   literacy_language\n",
      "56      -3.685246        math_science\n",
      "97      -3.745911                  ms\n",
      "60      -3.855710          grades_3_5\n",
      "81      -4.089613            literacy\n",
      "83      -4.106760         mathematics\n",
      "82      -4.389733  literature_writing\n",
      "53      -4.501955       health_sports\n"
     ]
    }
   ],
   "source": [
    "import pandas as pd\n",
    "tfidf_features = pd.DataFrame({'feature_probs':tfidf_feature_probs_n,'feature_names':tfidf_feature_names})\n",
    "final_tfidf_features = tfidf_features.sort_values(by='feature_probs',ascending=False)\n",
    "print(final_tfidf_features.head(10))"
   ]
  },
  {
   "cell_type": "markdown",
   "metadata": {
    "id": "lS9hIHdib3dp"
   },
   "source": [
    "<h1>3. Summary</h1>\n",
    "\n",
    "<br> as mentioned in the step 5 of instructions"
   ]
  },
  {
   "cell_type": "code",
   "execution_count": 190,
   "metadata": {},
   "outputs": [
    {
     "name": "stdout",
     "output_type": "stream",
     "text": [
      "+--------------+---------------+----------------+---------+-----------------+\n",
      "|  Vectorizer  |     Model     | Hyperparameter |   AUC   | Best_threshould |\n",
      "+--------------+---------------+----------------+---------+-----------------+\n",
      "| Bag_of_words | MultinomialNB |       1        | 0.69585 |      0.5511     |\n",
      "|    Tfidf     | MultinomialNB |      0.1       | 0.67133 |     0.55111     |\n",
      "+--------------+---------------+----------------+---------+-----------------+\n"
     ]
    }
   ],
   "source": [
    "#Summarize your assignment work here in a few points, and also compare the final models (from set 1 and set 2), in terms of optimal hyperparameter value 'alpha', training AUC and test AUC scores.\n",
    "# You can either use a pretty table or any other tabular structure.\n",
    "# Reference Link for Pretty table:  https://pypi.org/project/prettytable/\n",
    "from prettytable import PrettyTable\n",
    "compare_model = PrettyTable(['Vectorizer','Model','Hyperparameter','AUC','Best_threshould'])\n",
    "compare_model.add_row ([\"Bag_of_words\",\"MultinomialNB\",best_alpha,np.round(test_auc,5),np.round(best_t,4)])\n",
    "compare_model.add_row ([\"Tfidf\",\"MultinomialNB\",best_alpha1,np.round(test_auc1,5),np.round(best_t1,5)])\n",
    "print(compare_model)"
   ]
  },
  {
   "cell_type": "markdown",
   "metadata": {},
   "source": [
    "We can state that the model which uses Bag_of_words Encoding to transform the text features has AUC_Score greater than that of TFIDF Encoding.Hence,we can conclude that both the models performs on different hyperparameters."
   ]
  },
  {
   "cell_type": "code",
   "execution_count": null,
   "metadata": {},
   "outputs": [],
   "source": []
  }
 ],
 "metadata": {
  "colab": {
   "collapsed_sections": [],
   "name": "6_Assignment_NB_Instructions.ipynb",
   "provenance": []
  },
  "kernelspec": {
   "display_name": "Python 3",
   "language": "python",
   "name": "python3"
  },
  "language_info": {
   "codemirror_mode": {
    "name": "ipython",
    "version": 3
   },
   "file_extension": ".py",
   "mimetype": "text/x-python",
   "name": "python",
   "nbconvert_exporter": "python",
   "pygments_lexer": "ipython3",
   "version": "3.8.8"
  }
 },
 "nbformat": 4,
 "nbformat_minor": 1
}
